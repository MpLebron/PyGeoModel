{
 "cells": [
  {
   "cell_type": "markdown",
   "metadata": {},
   "source": [
    "## 待办清单\n",
    "### 把输出的数据下载到本地\n",
    "### 做模型分类浏览及调用的窗口\n",
    "### 要把当前笔记本的上下文给构建好了\n",
    "### 要基于当前笔记本的上下文，给出不同的推荐模型以及最终推荐模型，以及选择的理由"
   ]
  },
  {
   "cell_type": "code",
   "execution_count": 5,
   "metadata": {},
   "outputs": [
    {
     "data": {
      "application/vnd.jupyter.widget-view+json": {
       "model_id": "a0a3b8515f01446d805f88997a2e04c0",
       "version_major": 2,
       "version_minor": 0
      },
      "text/plain": [
       "HBox(children=(VBox(children=(Text(value='', description='Search:', layout=Layout(margin='5px 0', width='100%'…"
      ]
     },
     "execution_count": 5,
     "metadata": {},
     "output_type": "execute_result"
    }
   ],
   "source": [
    "from PyGeoModel import GeoModeler\n",
    "\n",
    "# 创建并显示模型列表\n",
    "modeler = GeoModeler()\n",
    "modeler.show_models()"
   ]
  },
  {
   "cell_type": "code",
   "execution_count": null,
   "metadata": {},
   "outputs": [
    {
     "data": {
      "text/html": [
       "\n",
       "            <style>\n",
       "                /* 美化问号按钮 - 使用原有配色风格 */\n",
       "                .widget-hbox .widget-button .btn {\n",
       "                    border-radius: 50% !important;\n",
       "                    border: 1px solid #e2e8f0 !important;\n",
       "                    box-shadow: 0 1px 2px rgba(0, 0, 0, 0.1) !important;\n",
       "                    transition: all 0.2s ease !important;\n",
       "                    font-size: 16px !important;\n",
       "                    font-weight: bold !important;\n",
       "                    min-width: 28px !important;\n",
       "                    padding: 0 !important;\n",
       "                }\n",
       "                .widget-hbox .widget-button .btn:hover {\n",
       "                    transform: scale(1.05) !important;\n",
       "                    box-shadow: 0 2px 4px rgba(0, 0, 0, 0.15) !important;\n",
       "                    border-color: #cbd5e1 !important;\n",
       "                    background-color: #ffffff !important;\n",
       "                }\n",
       "                .widget-hbox .widget-button .btn:active {\n",
       "                    transform: scale(0.95) !important;\n",
       "                }\n",
       "            </style>\n",
       "        "
      ],
      "text/plain": [
       "<IPython.core.display.HTML object>"
      ]
     },
     "metadata": {},
     "output_type": "display_data"
    },
    {
     "data": {
      "application/vnd.jupyter.widget-view+json": {
       "model_id": "77ddf1d83d7243f7bec599f01a8ef2a0",
       "version_major": 2,
       "version_minor": 0
      },
      "text/plain": [
       "HBox(children=(VBox(children=(VBox(children=(HBox(children=(HTML(value='\\n                <div>\\n             …"
      ]
     },
     "execution_count": 2,
     "metadata": {},
     "output_type": "execute_result"
    },
    {
     "data": {
      "text/html": [
       "<style>@keyframes fa-spin{0%{transform:rotate(0)}100%{transform:rotate(360deg)}} .fa-spinner{animation:fa-spin 1s linear infinite!important;}</style>"
      ],
      "text/plain": [
       "<IPython.core.display.HTML object>"
      ]
     },
     "metadata": {},
     "output_type": "display_data"
    }
   ],
   "source": [
    "from PyGeoModel import GeoModeler\n",
    "# 调用特定模型  \n",
    "modeler = GeoModeler()\n",
    "modeler.invoke_model(\"Roof Photovoltaic Carbon Emission Reduction Potential Assessment Model\")"
   ]
  },
  {
   "cell_type": "code",
   "execution_count": 28,
   "metadata": {},
   "outputs": [
    {
     "data": {
      "text/html": [],
      "text/plain": [
       "<IPython.core.display.HTML object>"
      ]
     },
     "metadata": {},
     "output_type": "display_data"
    },
    {
     "data": {
      "text/html": [
       "\n",
       "                        <style>\n",
       "                            .model-rec-container {\n",
       "                                font-family: 'PingFang SC', -apple-system, BlinkMacSystemFont, sans-serif;\n",
       "                                width: 100%;\n",
       "                                margin: 0;\n",
       "                            }\n",
       "                            .model-rec-header {\n",
       "                                background: #f8fafc;\n",
       "                                color: #1e293b;\n",
       "                                padding: 16px 20px;\n",
       "                                border: 1px solid #e2e8f0;\n",
       "                                border-radius: 8px 8px 0 0;\n",
       "                                font-size: 20px;\n",
       "                                font-weight: 600;\n",
       "                            }\n",
       "                            .model-rec-body {\n",
       "                                background: #f8fafc;\n",
       "                                border: 1px solid #e2e8f0;\n",
       "                                border-top: none;\n",
       "                                border-radius: 0 0 8px 8px;\n",
       "                                padding: 20px;\n",
       "                                display: grid;\n",
       "                                grid-template-columns: 1fr 1fr;\n",
       "                                gap: 20px;\n",
       "                            }\n",
       "                            .model-rec-section {\n",
       "                                margin-bottom: 18px;\n",
       "                            }\n",
       "                            .model-rec-title {\n",
       "                                font-size: 16px;\n",
       "                                font-weight: 600;\n",
       "                                color: #1e293b;\n",
       "                                margin-bottom: 8px;\n",
       "                                border-bottom: 1px solid #e2e8f0;\n",
       "                                padding-bottom: 6px;\n",
       "                            }\n",
       "                            .model-rec-name {\n",
       "                                font-size: 20px;\n",
       "                                font-weight: 600;\n",
       "                                color: #1e293b;\n",
       "                                margin-bottom: 10px;\n",
       "                            }\n",
       "                            .model-rec-desc {\n",
       "                                color: #64748b;\n",
       "                                line-height: 1.6;\n",
       "                                margin-bottom: 15px;\n",
       "                                font-size: 14px;\n",
       "                            }\n",
       "                            .model-rec-strengths {\n",
       "                                list-style-type: none;\n",
       "                                padding-left: 0;\n",
       "                                margin-top: 0;\n",
       "                            }\n",
       "                            .model-rec-strengths li {\n",
       "                                margin-bottom: 6px;\n",
       "                                padding-left: 20px;\n",
       "                                position: relative;\n",
       "                                color: #64748b;\n",
       "                                font-size: 14px;\n",
       "                            }\n",
       "                            .model-rec-strengths li:before {\n",
       "                                content: \"✓\";\n",
       "                                position: absolute;\n",
       "                                left: 0;\n",
       "                                color: #059669;\n",
       "                                font-weight: bold;\n",
       "                            }\n",
       "                            .model-rec-data-item {\n",
       "                                background: #ffffff;\n",
       "                                border: 1px solid #e2e8f0;\n",
       "                                border-radius: 6px;\n",
       "                                padding: 12px 15px;\n",
       "                                margin-bottom: 8px;\n",
       "                            }\n",
       "                            .model-rec-data-name {\n",
       "                                font-weight: 500;\n",
       "                                color: #1e293b;\n",
       "                                font-size: 14px;\n",
       "                            }\n",
       "                            .model-rec-data-location {\n",
       "                                color: #64748b;\n",
       "                                font-size: 13px;\n",
       "                                margin-top: 4px;\n",
       "                            }\n",
       "                            .model-rec-kb-link {\n",
       "                                color: #1e293b;\n",
       "                                text-decoration: none;\n",
       "                            }\n",
       "                            .model-rec-kb-link:hover {\n",
       "                                text-decoration: underline;\n",
       "                            }\n",
       "                            .model-rec-tag {\n",
       "                                display: inline-block;\n",
       "                                background: #e2e8f0;\n",
       "                                color: #64748b;\n",
       "                                border-radius: 4px;\n",
       "                                padding: 3px 8px;\n",
       "                                font-size: 12px;\n",
       "                                margin-right: 6px;\n",
       "                                margin-bottom: 4px;\n",
       "                            }\n",
       "                        </style>\n",
       "                        \n",
       "                        <div class=\"model-rec-container\">\n",
       "                            <div class=\"model-rec-header\">Model Recommendation</div>\n",
       "                            <div class=\"model-rec-body\">\n",
       "                                <div class=\"model-rec-section\">\n",
       "                                    <div class=\"model-rec-name\">Roof Photovoltaic Carbon Emission Reduction Potential Assessment Model</div>\n",
       "                                    <div class=\"model-rec-desc\">This model is specifically designed for assessing the photovoltaic potential of urban rooftops, directly aligning with the user's research objectives. It integrates key factors such as rooftop area, solar radiation, and system efficiency to accurately evaluate the theoretical power generation capacity of rooftop photovoltaic systems, with results that can be directly used for calculating emission reduction potential, offering high research value.</div>\n",
       "                                </div>\n",
       "                                \n",
       "                                <div class=\"model-rec-section\">\n",
       "                                    <div class=\"model-rec-title\">Core Advantages</div>\n",
       "                                    <ul class=\"model-rec-strengths\">\n",
       "                                        <li>Designed specifically for urban environments, effectively assessing photovoltaic generation potential</li><li>Combines multiple key data to provide precise theoretical power generation assessments</li><li>Output results are directly applicable for emission reduction research, ensuring practicality</li>\n",
       "                                    </ul>\n",
       "                                </div>\n",
       "                                \n",
       "                                <div class=\"model-rec-section\">\n",
       "                                    <div class=\"model-rec-title\">Recommendation Reason</div>\n",
       "                                    <div class=\"model-rec-desc\">This model perfectly matches the user's need for assessing photovoltaic emission reduction potential, providing high-precision evaluation results that ensure the scientific and practical nature of the research, making it the optimal choice for the current task.</div>\n",
       "                                </div>\n",
       "                                \n",
       "                                <div class=\"model-rec-section\">\n",
       "                                    <div class=\"model-rec-title\">Application Scenarios</div>\n",
       "                                    <div class=\"model-rec-desc\">The model can be applied in urban planning and sustainability assessments to evaluate the potential benefits of installing rooftop photovoltaic systems and their impact on carbon emission reductions.</div>\n",
       "                                </div>\n",
       "                        \n",
       "                                <div class=\"model-rec-section\" style=\"grid-column: 1 / -1;\">\n",
       "                                    <div class=\"model-rec-title\">Recommended Data Resources</div>\n",
       "                                    <div style=\"display: grid; grid-template-columns: 1fr 1fr; gap: 20px;\">\n",
       "                            \n",
       "                                <div>\n",
       "                                    <div style=\"font-weight: 500; color: #1e293b; margin-bottom: 8px; font-size: 14px;\">Local Data:</div>\n",
       "                            \n",
       "                                        <div class=\"model-rec-data-item\">\n",
       "                                            <div class=\"model-rec-data-name\">南京屋顶矢量数据</div>\n",
       "                                            <div class=\"model-rec-data-location\">📁 Nanjing rooftop/南京.shp</div>\n",
       "                                        </div>\n",
       "                                    \n",
       "                                        <div class=\"model-rec-data-item\">\n",
       "                                            <div class=\"model-rec-data-name\">屋顶矢量数据相关文件</div>\n",
       "                                            <div class=\"model-rec-data-location\">📁 Nanjing rooftop/南京.prj, 南京.dbf, 南京.qix, 南京.shx</div>\n",
       "                                        </div>\n",
       "                                    \n",
       "                                        <div class=\"model-rec-data-item\">\n",
       "                                            <div class=\"model-rec-data-name\">光伏系统效率</div>\n",
       "                                            <div class=\"model-rec-data-location\">📁 testify/system_efficiency.xml</div>\n",
       "                                        </div>\n",
       "                                    </div>\n",
       "                                <div>\n",
       "                                    <div style=\"font-weight: 500; color: #1e293b; margin-bottom: 8px; font-size: 14px;\">Data Center Data:</div>\n",
       "                            \n",
       "                                        <div class=\"model-rec-data-item\">\n",
       "                                            <div class=\"model-rec-data-name\">中国建筑屋顶光伏发电及碳减排潜力数据集(2020年)</div>\n",
       "                                            <div class=\"model-rec-data-location\">\n",
       "                                                <a href=\"https://nnu.geodata.cn/data/datadetails.html?dataguid=102870227856715\" class=\"model-rec-kb-link\" target=\"_blank\">🔗 View Data</a>\n",
       "                                            </div>\n",
       "                                        </div>\n",
       "                                    \n",
       "                                        <div class=\"model-rec-data-item\">\n",
       "                                            <div class=\"model-rec-data-name\">长三角重点城市建筑物屋顶分布数据集(2020年)</div>\n",
       "                                            <div class=\"model-rec-data-location\">\n",
       "                                                <a href=\"https://nnu.geodata.cn/data/datadetails.html?dataguid=247931455427202\" class=\"model-rec-kb-link\" target=\"_blank\">🔗 View Data</a>\n",
       "                                            </div>\n",
       "                                        </div>\n",
       "                                    </div>\n",
       "                                    </div>\n",
       "                                </div>\n",
       "                            \n",
       "                            </div>\n",
       "                        </div>\n",
       "                        "
      ],
      "text/plain": [
       "<IPython.core.display.HTML object>"
      ]
     },
     "metadata": {},
     "output_type": "display_data"
    }
   ],
   "source": [
    "modeler.suggest_model()"
   ]
  },
  {
   "cell_type": "code",
   "execution_count": null,
   "metadata": {},
   "outputs": [],
   "source": []
  }
 ],
 "metadata": {
  "kernelspec": {
   "display_name": "Python notebook",
   "language": "python",
   "name": "notebook"
  },
  "language_info": {
   "codemirror_mode": {
    "name": "ipython",
    "version": 3
   },
   "file_extension": ".py",
   "mimetype": "text/x-python",
   "name": "python",
   "nbconvert_exporter": "python",
   "pygments_lexer": "ipython3",
   "version": "3.9.20"
  }
 },
 "nbformat": 4,
 "nbformat_minor": 2
}
